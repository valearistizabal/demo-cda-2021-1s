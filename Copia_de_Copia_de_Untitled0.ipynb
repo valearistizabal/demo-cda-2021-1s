{
  "nbformat": 4,
  "nbformat_minor": 0,
  "metadata": {
    "colab": {
      "name": "Copia de Copia de Untitled0.ipynb",
      "provenance": [],
      "collapsed_sections": [],
      "authorship_tag": "ABX9TyPa/Hm3zfI0/8x8QkeC1Tvo",
      "include_colab_link": true
    },
    "kernelspec": {
      "name": "python3",
      "display_name": "Python 3"
    },
    "language_info": {
      "name": "python"
    }
  },
  "cells": [
    {
      "cell_type": "markdown",
      "metadata": {
        "id": "view-in-github",
        "colab_type": "text"
      },
      "source": [
        "<a href=\"https://colab.research.google.com/github/valearistizabal/demo-cda-2021-1s/blob/main/Copia_de_Copia_de_Untitled0.ipynb\" target=\"_parent\"><img src=\"https://colab.research.google.com/assets/colab-badge.svg\" alt=\"Open In Colab\"/></a>"
      ]
    },
    {
      "cell_type": "code",
      "metadata": {
        "id": "sDI1xYACOIrd",
        "colab": {
          "base_uri": "https://localhost:8080/",
          "height": 235
        },
        "outputId": "755121e5-d24d-403e-d830-b3d5c3808979"
      },
      "source": [
        "import numpy as np\n",
        "import matplotlib.pyplot as plt\n",
        "import matplotlib as mpl\n",
        "import pandas\n",
        "%matplotlib inline\n",
        "\n",
        "df = pandas.read_csv('data.csv',\n",
        "                    sep=',',\n",
        "                    thousands=None,\n",
        "                    decimal = \".\") \n",
        "df"
      ],
      "execution_count": null,
      "outputs": [
        {
          "output_type": "execute_result",
          "data": {
            "text/html": [
              "<div>\n",
              "<style scoped>\n",
              "    .dataframe tbody tr th:only-of-type {\n",
              "        vertical-align: middle;\n",
              "    }\n",
              "\n",
              "    .dataframe tbody tr th {\n",
              "        vertical-align: top;\n",
              "    }\n",
              "\n",
              "    .dataframe thead th {\n",
              "        text-align: right;\n",
              "    }\n",
              "</style>\n",
              "<table border=\"1\" class=\"dataframe\">\n",
              "  <thead>\n",
              "    <tr style=\"text-align: right;\">\n",
              "      <th></th>\n",
              "      <th>Region</th>\n",
              "      <th>Poblacion 0-14</th>\n",
              "      <th>Poblacion 15-64</th>\n",
              "      <th>Poblacion 65+</th>\n",
              "    </tr>\n",
              "  </thead>\n",
              "  <tbody>\n",
              "    <tr>\n",
              "      <th>0</th>\n",
              "      <td>Asia</td>\n",
              "      <td>5318.6</td>\n",
              "      <td>10668.7</td>\n",
              "      <td>1013.0</td>\n",
              "    </tr>\n",
              "    <tr>\n",
              "      <th>1</th>\n",
              "      <td>Europa</td>\n",
              "      <td>3780.2</td>\n",
              "      <td>13830.6</td>\n",
              "      <td>2890.5</td>\n",
              "    </tr>\n",
              "    <tr>\n",
              "      <th>2</th>\n",
              "      <td>Las Americas</td>\n",
              "      <td>5375.5</td>\n",
              "      <td>10901.8</td>\n",
              "      <td>1223.1</td>\n",
              "    </tr>\n",
              "    <tr>\n",
              "      <th>3</th>\n",
              "      <td>Oceania</td>\n",
              "      <td>1784.8</td>\n",
              "      <td>3133.1</td>\n",
              "      <td>282.5</td>\n",
              "    </tr>\n",
              "    <tr>\n",
              "      <th>4</th>\n",
              "      <td>Oriente Medio</td>\n",
              "      <td>1754.7</td>\n",
              "      <td>3251.1</td>\n",
              "      <td>194.2</td>\n",
              "    </tr>\n",
              "    <tr>\n",
              "      <th>5</th>\n",
              "      <td>africa</td>\n",
              "      <td>11136.2</td>\n",
              "      <td>14452.7</td>\n",
              "      <td>911.7</td>\n",
              "    </tr>\n",
              "  </tbody>\n",
              "</table>\n",
              "</div>"
            ],
            "text/plain": [
              "          Region  Poblacion 0-14  Poblacion 15-64  Poblacion 65+\n",
              "0           Asia          5318.6          10668.7         1013.0\n",
              "1         Europa          3780.2          13830.6         2890.5\n",
              "2   Las Americas          5375.5          10901.8         1223.1\n",
              "3        Oceania          1784.8           3133.1          282.5\n",
              "4  Oriente Medio          1754.7           3251.1          194.2\n",
              "5         africa         11136.2          14452.7          911.7"
            ]
          },
          "metadata": {
            "tags": []
          },
          "execution_count": 8
        }
      ]
    },
    {
      "cell_type": "code",
      "metadata": {
        "colab": {
          "base_uri": "https://localhost:8080/",
          "height": 142
        },
        "id": "7KsY2JepM0-9",
        "outputId": "e88e03de-d5c3-4be5-d8d3-db175701e22c"
      },
      "source": [
        "data=df.set_index('Region')\n",
        "data=data.transpose()\n",
        "data\n"
      ],
      "execution_count": null,
      "outputs": [
        {
          "output_type": "execute_result",
          "data": {
            "text/html": [
              "<div>\n",
              "<style scoped>\n",
              "    .dataframe tbody tr th:only-of-type {\n",
              "        vertical-align: middle;\n",
              "    }\n",
              "\n",
              "    .dataframe tbody tr th {\n",
              "        vertical-align: top;\n",
              "    }\n",
              "\n",
              "    .dataframe thead th {\n",
              "        text-align: right;\n",
              "    }\n",
              "</style>\n",
              "<table border=\"1\" class=\"dataframe\">\n",
              "  <thead>\n",
              "    <tr style=\"text-align: right;\">\n",
              "      <th>Region</th>\n",
              "      <th>Asia</th>\n",
              "      <th>Europa</th>\n",
              "      <th>Las Americas</th>\n",
              "      <th>Oceania</th>\n",
              "      <th>Oriente Medio</th>\n",
              "      <th>africa</th>\n",
              "    </tr>\n",
              "  </thead>\n",
              "  <tbody>\n",
              "    <tr>\n",
              "      <th>Poblacion 0-14</th>\n",
              "      <td>5318.6</td>\n",
              "      <td>3780.2</td>\n",
              "      <td>5375.5</td>\n",
              "      <td>1784.8</td>\n",
              "      <td>1754.7</td>\n",
              "      <td>11136.2</td>\n",
              "    </tr>\n",
              "    <tr>\n",
              "      <th>Poblacion 15-64</th>\n",
              "      <td>10668.7</td>\n",
              "      <td>13830.6</td>\n",
              "      <td>10901.8</td>\n",
              "      <td>3133.1</td>\n",
              "      <td>3251.1</td>\n",
              "      <td>14452.7</td>\n",
              "    </tr>\n",
              "    <tr>\n",
              "      <th>Poblacion 65+</th>\n",
              "      <td>1013.0</td>\n",
              "      <td>2890.5</td>\n",
              "      <td>1223.1</td>\n",
              "      <td>282.5</td>\n",
              "      <td>194.2</td>\n",
              "      <td>911.7</td>\n",
              "    </tr>\n",
              "  </tbody>\n",
              "</table>\n",
              "</div>"
            ],
            "text/plain": [
              "Region              Asia   Europa  ...  Oriente Medio   africa\n",
              "Poblacion 0-14    5318.6   3780.2  ...         1754.7  11136.2\n",
              "Poblacion 15-64  10668.7  13830.6  ...         3251.1  14452.7\n",
              "Poblacion 65+     1013.0   2890.5  ...          194.2    911.7\n",
              "\n",
              "[3 rows x 6 columns]"
            ]
          },
          "metadata": {
            "tags": []
          },
          "execution_count": 25
        }
      ]
    },
    {
      "cell_type": "code",
      "metadata": {
        "colab": {
          "base_uri": "https://localhost:8080/",
          "height": 163
        },
        "id": "ZD8Q1JqFYUpy",
        "outputId": "a45ddacc-5db6-4c72-d9ef-b4f2f40c8e1d"
      },
      "source": [
        " plt.subplot(2, 3, index+1)"
      ],
      "execution_count": null,
      "outputs": [
        {
          "output_type": "error",
          "ename": "NameError",
          "evalue": "ignored",
          "traceback": [
            "\u001b[0;31m---------------------------------------------------------------------------\u001b[0m",
            "\u001b[0;31mNameError\u001b[0m                                 Traceback (most recent call last)",
            "\u001b[0;32m<ipython-input-27-1aa4106ed63c>\u001b[0m in \u001b[0;36m<module>\u001b[0;34m()\u001b[0m\n\u001b[0;32m----> 1\u001b[0;31m \u001b[0mplt\u001b[0m\u001b[0;34m.\u001b[0m\u001b[0msubplot\u001b[0m\u001b[0;34m(\u001b[0m\u001b[0;36m2\u001b[0m\u001b[0;34m,\u001b[0m \u001b[0;36m3\u001b[0m\u001b[0;34m,\u001b[0m \u001b[0mindex\u001b[0m\u001b[0;34m+\u001b[0m\u001b[0;36m1\u001b[0m\u001b[0;34m)\u001b[0m\u001b[0;34m\u001b[0m\u001b[0;34m\u001b[0m\u001b[0m\n\u001b[0m",
            "\u001b[0;31mNameError\u001b[0m: name 'index' is not defined"
          ]
        }
      ]
    }
  ]
}